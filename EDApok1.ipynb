{
 "cells": [
  {
   "cell_type": "markdown",
   "id": "38a68aee",
   "metadata": {},
   "source": [
    "## Exploratory Data Analysis  \n",
    "\n",
    "This project is based on the dataset “Pokemon with Stats” by Parradas (2016)\n",
    "\n",
    "The data set includes 800 Pokemon, including their number, name, first and second type, basic stats: HP, Attack, Defense, Special Attack, Special Defense, Speed, Generation and if it is Legendary or not. \n",
    "\n",
    "As part of the preparation for this project, I learned to load the pokemon.csv dataset into my Jupyter notebook and use it to practice the topics discussed in the lecture: \n",
    "\n",
    "- Load and explore the *.csv datasets\n",
    "- Look up further details of the Pandas import functions in:\n",
    "https://pandas.pydata.org/pandas-docs/stable/reference/api/pandas.read_csv.html\n",
    "- Explore the loaded DataFrame using Pandas\n",
    "(https://pandas.pydata.org/pandas-docs/stable/reference/frame.html)\n",
    "- Use the slice notation to select rows and columns\n",
    "- Calculate basic statistics on the dataset (e.g. variance, standard deviation, percentiles, etc)\n",
    "- Explore further calculations in Numpy\n",
    "- Data Visualisation using Matplotlib"
   ]
  },
  {
   "cell_type": "code",
   "execution_count": 1,
   "id": "15499f85",
   "metadata": {},
   "outputs": [],
   "source": [
    "# Required libraries  \n",
    "import pandas as pd\n",
    "import numpy as np\n",
    "import matplotlib.pyplot as plt\n"
   ]
  },
  {
   "cell_type": "markdown",
   "id": "6f9db3a3",
   "metadata": {},
   "source": [
    "###  pokemon.csv dataset\n",
    "\n",
    "Let's start by loading the data from csv and explore:\n"
   ]
  },
  {
   "cell_type": "code",
   "execution_count": 2,
   "id": "3289c97d",
   "metadata": {},
   "outputs": [],
   "source": [
    "#Here I used pandas to read in the dataset pokemon.csv as a pandas DataFrame named df_pokemon\n",
    "df_pokemon = pd.read_csv(\"pokemon.csv\")"
   ]
  },
  {
   "cell_type": "code",
   "execution_count": 3,
   "id": "1b2c3e67",
   "metadata": {},
   "outputs": [
    {
     "data": {
      "text/plain": [
       "Index(['#', 'Name', 'Type1', 'Type2', 'Total', 'HP', 'Attack', 'Defense',\n",
       "       'SpAtk', 'SpDef', 'Speed', 'Generation', 'Legendary'],\n",
       "      dtype='object')"
      ]
     },
     "execution_count": 3,
     "metadata": {},
     "output_type": "execute_result"
    }
   ],
   "source": [
    "# Explore columns\n",
    "df_pokemon.columns"
   ]
  },
  {
   "cell_type": "code",
   "execution_count": 4,
   "id": "b30892c2",
   "metadata": {},
   "outputs": [
    {
     "name": "stdout",
     "output_type": "stream",
     "text": [
      "Number of columns in Dataframe Pokemon:  13\n",
      "Number of rows in Dataframe Pokemon:  800\n"
     ]
    },
    {
     "data": {
      "text/html": [
       "<div>\n",
       "<style scoped>\n",
       "    .dataframe tbody tr th:only-of-type {\n",
       "        vertical-align: middle;\n",
       "    }\n",
       "\n",
       "    .dataframe tbody tr th {\n",
       "        vertical-align: top;\n",
       "    }\n",
       "\n",
       "    .dataframe thead th {\n",
       "        text-align: right;\n",
       "    }\n",
       "</style>\n",
       "<table border=\"1\" class=\"dataframe\">\n",
       "  <thead>\n",
       "    <tr style=\"text-align: right;\">\n",
       "      <th></th>\n",
       "      <th>#</th>\n",
       "      <th>Name</th>\n",
       "      <th>Type1</th>\n",
       "      <th>Type2</th>\n",
       "      <th>Total</th>\n",
       "      <th>HP</th>\n",
       "      <th>Attack</th>\n",
       "      <th>Defense</th>\n",
       "      <th>SpAtk</th>\n",
       "      <th>SpDef</th>\n",
       "      <th>Speed</th>\n",
       "      <th>Generation</th>\n",
       "      <th>Legendary</th>\n",
       "    </tr>\n",
       "  </thead>\n",
       "  <tbody>\n",
       "    <tr>\n",
       "      <th>0</th>\n",
       "      <td>1</td>\n",
       "      <td>Bulbasaur</td>\n",
       "      <td>Grass</td>\n",
       "      <td>Poison</td>\n",
       "      <td>318</td>\n",
       "      <td>45</td>\n",
       "      <td>49</td>\n",
       "      <td>49</td>\n",
       "      <td>65</td>\n",
       "      <td>65</td>\n",
       "      <td>45</td>\n",
       "      <td>1</td>\n",
       "      <td>NotLegendary</td>\n",
       "    </tr>\n",
       "    <tr>\n",
       "      <th>1</th>\n",
       "      <td>2</td>\n",
       "      <td>Ivysaur</td>\n",
       "      <td>Grass</td>\n",
       "      <td>Poison</td>\n",
       "      <td>405</td>\n",
       "      <td>60</td>\n",
       "      <td>62</td>\n",
       "      <td>63</td>\n",
       "      <td>80</td>\n",
       "      <td>80</td>\n",
       "      <td>60</td>\n",
       "      <td>1</td>\n",
       "      <td>NotLegendary</td>\n",
       "    </tr>\n",
       "    <tr>\n",
       "      <th>2</th>\n",
       "      <td>3</td>\n",
       "      <td>Venusaur</td>\n",
       "      <td>Grass</td>\n",
       "      <td>Poison</td>\n",
       "      <td>525</td>\n",
       "      <td>80</td>\n",
       "      <td>82</td>\n",
       "      <td>83</td>\n",
       "      <td>100</td>\n",
       "      <td>100</td>\n",
       "      <td>80</td>\n",
       "      <td>1</td>\n",
       "      <td>NotLegendary</td>\n",
       "    </tr>\n",
       "    <tr>\n",
       "      <th>3</th>\n",
       "      <td>3</td>\n",
       "      <td>VenusaurMega Venusaur</td>\n",
       "      <td>Grass</td>\n",
       "      <td>Poison</td>\n",
       "      <td>625</td>\n",
       "      <td>80</td>\n",
       "      <td>100</td>\n",
       "      <td>123</td>\n",
       "      <td>122</td>\n",
       "      <td>120</td>\n",
       "      <td>80</td>\n",
       "      <td>1</td>\n",
       "      <td>NotLegendary</td>\n",
       "    </tr>\n",
       "    <tr>\n",
       "      <th>4</th>\n",
       "      <td>4</td>\n",
       "      <td>Charmander</td>\n",
       "      <td>Fire</td>\n",
       "      <td>NaN</td>\n",
       "      <td>309</td>\n",
       "      <td>39</td>\n",
       "      <td>52</td>\n",
       "      <td>43</td>\n",
       "      <td>60</td>\n",
       "      <td>50</td>\n",
       "      <td>65</td>\n",
       "      <td>1</td>\n",
       "      <td>NotLegendary</td>\n",
       "    </tr>\n",
       "    <tr>\n",
       "      <th>5</th>\n",
       "      <td>5</td>\n",
       "      <td>Charmeleon</td>\n",
       "      <td>Fire</td>\n",
       "      <td>NaN</td>\n",
       "      <td>405</td>\n",
       "      <td>58</td>\n",
       "      <td>64</td>\n",
       "      <td>58</td>\n",
       "      <td>80</td>\n",
       "      <td>65</td>\n",
       "      <td>80</td>\n",
       "      <td>1</td>\n",
       "      <td>NotLegendary</td>\n",
       "    </tr>\n",
       "  </tbody>\n",
       "</table>\n",
       "</div>"
      ],
      "text/plain": [
       "   #                   Name  Type1   Type2  Total  HP  Attack  Defense  SpAtk  \\\n",
       "0  1              Bulbasaur  Grass  Poison    318  45      49       49     65   \n",
       "1  2                Ivysaur  Grass  Poison    405  60      62       63     80   \n",
       "2  3               Venusaur  Grass  Poison    525  80      82       83    100   \n",
       "3  3  VenusaurMega Venusaur  Grass  Poison    625  80     100      123    122   \n",
       "4  4             Charmander   Fire     NaN    309  39      52       43     60   \n",
       "5  5             Charmeleon   Fire     NaN    405  58      64       58     80   \n",
       "\n",
       "   SpDef  Speed  Generation     Legendary  \n",
       "0     65     45           1  NotLegendary  \n",
       "1     80     60           1  NotLegendary  \n",
       "2    100     80           1  NotLegendary  \n",
       "3    120     80           1  NotLegendary  \n",
       "4     50     65           1  NotLegendary  \n",
       "5     65     80           1  NotLegendary  "
      ]
     },
     "execution_count": 4,
     "metadata": {},
     "output_type": "execute_result"
    }
   ],
   "source": [
    "#print command to display the number of rows and columns\n",
    "print('Number of columns in Dataframe Pokemon: ', len(df_pokemon.columns))\n",
    "print('Number of rows in Dataframe Pokemon: ', len(df_pokemon.index))\n",
    "\n",
    "#dataset content by printing the first six rows to the console\n",
    "df_pokemon.head(6)"
   ]
  },
  {
   "cell_type": "code",
   "execution_count": 5,
   "id": "74a8294c",
   "metadata": {},
   "outputs": [
    {
     "data": {
      "text/html": [
       "<div>\n",
       "<style scoped>\n",
       "    .dataframe tbody tr th:only-of-type {\n",
       "        vertical-align: middle;\n",
       "    }\n",
       "\n",
       "    .dataframe tbody tr th {\n",
       "        vertical-align: top;\n",
       "    }\n",
       "\n",
       "    .dataframe thead th {\n",
       "        text-align: right;\n",
       "    }\n",
       "</style>\n",
       "<table border=\"1\" class=\"dataframe\">\n",
       "  <thead>\n",
       "    <tr style=\"text-align: right;\">\n",
       "      <th></th>\n",
       "      <th>#</th>\n",
       "      <th>Name</th>\n",
       "      <th>Type1</th>\n",
       "      <th>Type2</th>\n",
       "      <th>Total</th>\n",
       "      <th>HP</th>\n",
       "      <th>Attack</th>\n",
       "      <th>Defense</th>\n",
       "      <th>SpAtk</th>\n",
       "      <th>SpDef</th>\n",
       "      <th>Speed</th>\n",
       "      <th>Generation</th>\n",
       "      <th>Legendary</th>\n",
       "    </tr>\n",
       "  </thead>\n",
       "  <tbody>\n",
       "    <tr>\n",
       "      <th>794</th>\n",
       "      <td>718</td>\n",
       "      <td>Zygarde50% Forme</td>\n",
       "      <td>Dragon</td>\n",
       "      <td>Ground</td>\n",
       "      <td>600</td>\n",
       "      <td>108</td>\n",
       "      <td>100</td>\n",
       "      <td>121</td>\n",
       "      <td>81</td>\n",
       "      <td>95</td>\n",
       "      <td>95</td>\n",
       "      <td>6</td>\n",
       "      <td>Legendary</td>\n",
       "    </tr>\n",
       "    <tr>\n",
       "      <th>795</th>\n",
       "      <td>719</td>\n",
       "      <td>Diancie</td>\n",
       "      <td>Rock</td>\n",
       "      <td>Fairy</td>\n",
       "      <td>600</td>\n",
       "      <td>50</td>\n",
       "      <td>100</td>\n",
       "      <td>150</td>\n",
       "      <td>100</td>\n",
       "      <td>150</td>\n",
       "      <td>50</td>\n",
       "      <td>6</td>\n",
       "      <td>Legendary</td>\n",
       "    </tr>\n",
       "    <tr>\n",
       "      <th>796</th>\n",
       "      <td>719</td>\n",
       "      <td>DiancieMega Diancie</td>\n",
       "      <td>Rock</td>\n",
       "      <td>Fairy</td>\n",
       "      <td>700</td>\n",
       "      <td>50</td>\n",
       "      <td>160</td>\n",
       "      <td>110</td>\n",
       "      <td>160</td>\n",
       "      <td>110</td>\n",
       "      <td>110</td>\n",
       "      <td>6</td>\n",
       "      <td>Legendary</td>\n",
       "    </tr>\n",
       "    <tr>\n",
       "      <th>797</th>\n",
       "      <td>720</td>\n",
       "      <td>HoopaHoopa Confined</td>\n",
       "      <td>Psychic</td>\n",
       "      <td>Ghost</td>\n",
       "      <td>600</td>\n",
       "      <td>80</td>\n",
       "      <td>110</td>\n",
       "      <td>60</td>\n",
       "      <td>150</td>\n",
       "      <td>130</td>\n",
       "      <td>70</td>\n",
       "      <td>6</td>\n",
       "      <td>Legendary</td>\n",
       "    </tr>\n",
       "    <tr>\n",
       "      <th>798</th>\n",
       "      <td>720</td>\n",
       "      <td>HoopaHoopa Unbound</td>\n",
       "      <td>Psychic</td>\n",
       "      <td>Dark</td>\n",
       "      <td>680</td>\n",
       "      <td>80</td>\n",
       "      <td>160</td>\n",
       "      <td>60</td>\n",
       "      <td>170</td>\n",
       "      <td>130</td>\n",
       "      <td>80</td>\n",
       "      <td>6</td>\n",
       "      <td>Legendary</td>\n",
       "    </tr>\n",
       "    <tr>\n",
       "      <th>799</th>\n",
       "      <td>721</td>\n",
       "      <td>Volcanion</td>\n",
       "      <td>Fire</td>\n",
       "      <td>Water</td>\n",
       "      <td>600</td>\n",
       "      <td>80</td>\n",
       "      <td>110</td>\n",
       "      <td>120</td>\n",
       "      <td>130</td>\n",
       "      <td>90</td>\n",
       "      <td>70</td>\n",
       "      <td>6</td>\n",
       "      <td>Legendary</td>\n",
       "    </tr>\n",
       "  </tbody>\n",
       "</table>\n",
       "</div>"
      ],
      "text/plain": [
       "       #                 Name    Type1   Type2  Total   HP  Attack  Defense  \\\n",
       "794  718     Zygarde50% Forme   Dragon  Ground    600  108     100      121   \n",
       "795  719              Diancie     Rock   Fairy    600   50     100      150   \n",
       "796  719  DiancieMega Diancie     Rock   Fairy    700   50     160      110   \n",
       "797  720  HoopaHoopa Confined  Psychic   Ghost    600   80     110       60   \n",
       "798  720   HoopaHoopa Unbound  Psychic    Dark    680   80     160       60   \n",
       "799  721            Volcanion     Fire   Water    600   80     110      120   \n",
       "\n",
       "     SpAtk  SpDef  Speed  Generation  Legendary  \n",
       "794     81     95     95           6  Legendary  \n",
       "795    100    150     50           6  Legendary  \n",
       "796    160    110    110           6  Legendary  \n",
       "797    150    130     70           6  Legendary  \n",
       "798    170    130     80           6  Legendary  \n",
       "799    130     90     70           6  Legendary  "
      ]
     },
     "execution_count": 5,
     "metadata": {},
     "output_type": "execute_result"
    }
   ],
   "source": [
    "#dataset content by printing the last six rows to the console\n",
    "df_pokemon.tail(6)"
   ]
  },
  {
   "cell_type": "markdown",
   "id": "123d2bee",
   "metadata": {},
   "source": [
    "### Prepare the dataset for analysis\n",
    "\n",
    "Use pandas to test if there are any null values in df_pokemon and create a new version df_pokemon_co of df_pokemon which excludes all observations affected by missing data. Use the print command to display the number of complete observations to the console."
   ]
  },
  {
   "cell_type": "code",
   "execution_count": 6,
   "id": "55ef8cf0",
   "metadata": {},
   "outputs": [
    {
     "name": "stdout",
     "output_type": "stream",
     "text": [
      "True\n",
      "The new number of columns in the Dataframe Pokemon :  13\n",
      "The new number of rows in the Dataframe Pokemon :  414\n"
     ]
    }
   ],
   "source": [
    "#test if there are any null values and print the result to the console as a boolean.\n",
    "print(df_pokemon.isnull().values.any()) \n",
    "\n",
    "#Create a new version df_pokemon_co of df_pokemon which excludes all observations affected by missing data.\n",
    "df_pokemon_co=df_pokemon.dropna(axis=0) \n",
    "\n",
    "# Use the print to display the number of complete observations\n",
    "print('The new number of columns in the Dataframe Pokemon : ', len(df_pokemon_co.columns))\n",
    "print('The new number of rows in the Dataframe Pokemon : ', len(df_pokemon_co.index))"
   ]
  },
  {
   "cell_type": "markdown",
   "id": "43cd4029",
   "metadata": {},
   "source": [
    "After the removal of observations affected by missing data the dataframe Pokemon has only 414 rows and the same number of columns 13."
   ]
  },
  {
   "cell_type": "markdown",
   "id": "f0786c6b",
   "metadata": {},
   "source": [
    "### Descriptive statistics\n"
   ]
  },
  {
   "cell_type": "markdown",
   "id": "b2ef3fc0",
   "metadata": {},
   "source": [
    "* Use the df_pokemon_co, calculate the mean HP and total for legendary and not-legendary pokemon. Store these two means into separate variables.\n",
    "\n",
    "* Use the print command to display the difference in mean HP and total between legendary and not-legendary pokemon to the console. The difference should be rounded to two digits."
   ]
  },
  {
   "cell_type": "code",
   "execution_count": 8,
   "id": "2df7459e",
   "metadata": {},
   "outputs": [
    {
     "name": "stdout",
     "output_type": "stream",
     "text": [
      "The difference in mean HP between Legendary and NotLegendary: 28.53\n"
     ]
    }
   ],
   "source": [
    "#Calculate the mean HP for legendary and not-legendary pokemon. Store these two means into separate variables.\n",
    "mean_HP_legendary = np.mean(df_pokemon_co[df_pokemon_co[\"Legendary\"]==\"Legendary\"][\"HP\"])\n",
    "mean_HP_notlegendary = np.mean(df_pokemon_co[df_pokemon_co[\"Legendary\"]==\"NotLegendary\"][\"HP\"])\n",
    "\n",
    "#Use the print command to display the difference in mean HP between legendary and not-legendary pokemon\n",
    "print(\"The difference in mean HP between Legendary and NotLegendary:\", round((mean_HP_legendary - mean_HP_notlegendary),2))"
   ]
  },
  {
   "cell_type": "code",
   "execution_count": 9,
   "id": "ed1af9fb",
   "metadata": {},
   "outputs": [
    {
     "name": "stdout",
     "output_type": "stream",
     "text": [
      "The Mean Total for legendary Pokemon is: 645.25\n",
      "The Mean Total for not legendary pokemon is: 436.45\n",
      "The difference in mean Total between Legendary and NotLegendary: 208.8\n"
     ]
    }
   ],
   "source": [
    "#Calculate the mean Total for legendary and not-legendary pokemon. Store and print these two means into separate variables.\n",
    "mean_Total_legendary = np.mean(df_pokemon_co[df_pokemon_co[\"Legendary\"]==\"Legendary\"][\"Total\"])\n",
    "print(\"The Mean Total for legendary Pokemon is:\", (mean_Total_legendary))\n",
    "\n",
    "mean_Total_notlegendary = np.mean(df_pokemon_co[df_pokemon_co[\"Legendary\"]==\"NotLegendary\"][\"Total\"])\n",
    "print(\"The Mean Total for not legendary pokemon is:\", round((mean_Total_notlegendary),2))\n",
    "\n",
    "#Use the print command to display the difference in mean Total between legendary and not-legendary pokemon\n",
    "print(\"The difference in mean Total between Legendary and NotLegendary:\", round((mean_Total_legendary - mean_Total_notlegendary),2))"
   ]
  },
  {
   "cell_type": "code",
   "execution_count": 19,
   "id": "f8b39035",
   "metadata": {},
   "outputs": [
    {
     "name": "stdout",
     "output_type": "stream",
     "text": [
      "Sd: 32.01\n",
      "Variance: 1024.83\n"
     ]
    }
   ],
   "source": [
    "# Calculate the variance and the sd of the variable Attack for pokemon of Generation 1.\n",
    "Sd_attack_G1 = np.std(df_pokemon_co[df_pokemon_co[\"Generation\"]==1][\"Attack\"])\n",
    "Var_attack_G1 = np.var(df_pokemon_co[df_pokemon_co[\"Generation\"]==1][\"Attack\"])\n",
    "\n",
    "\n",
    "print('Sd:', round(( Sd_attack_G1), 2))\n",
    "print('Variance:', round((Var_attack_G1), 2))"
   ]
  },
  {
   "cell_type": "markdown",
   "id": "457111ac",
   "metadata": {},
   "source": [
    "Calculate the median speed of all pokemons in the dataset"
   ]
  },
  {
   "cell_type": "code",
   "execution_count": 32,
   "id": "eb01f165",
   "metadata": {},
   "outputs": [
    {
     "data": {
      "text/plain": [
       "70.0"
      ]
     },
     "execution_count": 32,
     "metadata": {},
     "output_type": "execute_result"
    }
   ],
   "source": [
    "np.median(df_pokemon_co[\"Speed\"])"
   ]
  },
  {
   "cell_type": "markdown",
   "id": "36571efc",
   "metadata": {},
   "source": [
    "Calculate the median Attack of all pokemons from Generation 1 and Generation 6"
   ]
  },
  {
   "cell_type": "code",
   "execution_count": null,
   "id": "ecac2088",
   "metadata": {},
   "outputs": [],
   "source": [
    "median_Attack_gen1 = np.median(df_pokemon_co[df_pokemon_co[\"Generation\"]==1][\"Attack\"])\n",
    "print(\"The mediam Attack from Generation 1:\", round(median_Attack_gen1))\n",
    "\n",
    "median_Attack_gen6 = np.median(df_pokemon_co[df_pokemon_co[\"Generation\"]==6][\"Attack\"])\n",
    "print(\"The median Attack from Generation 6:\", round(median_Attack_gen6))"
   ]
  },
  {
   "cell_type": "markdown",
   "id": "02466630",
   "metadata": {},
   "source": [
    "Compare the median Attacks and display the result"
   ]
  },
  {
   "cell_type": "code",
   "execution_count": 37,
   "id": "a5690134",
   "metadata": {},
   "outputs": [
    {
     "data": {
      "text/plain": [
       "'The median Attack of Generation 1 pokemons (80.0) is larger than the median Attack of Generation 6 pokemons (78.5)'"
      ]
     },
     "execution_count": 37,
     "metadata": {},
     "output_type": "execute_result"
    }
   ],
   "source": [
    "if median_Attack_gen1 > median_Attack_gen6:\n",
    "    comparison = \"larger than\"\n",
    "elif median_Attack_gen1 < median_Attack_gen6:\n",
    "    comparison = \"smaller than\"\n",
    "else:\n",
    "    comparison = \"equal to\"\n",
    "\"The median Attack of Generation 1 pokemons ({}) is {} the median Attack of Generation 6 pokemons ({})\".format(\n",
    "    median_Attack_gen1, comparison, median_Attack_gen6)"
   ]
  },
  {
   "cell_type": "markdown",
   "id": "fdfb4c42",
   "metadata": {},
   "source": [
    "Calculate the SpAtk quantile from all pokemons using the Numpy function:"
   ]
  },
  {
   "cell_type": "code",
   "execution_count": null,
   "id": "2d24bc49",
   "metadata": {},
   "outputs": [],
   "source": [
    "# Calculate quantile using the Numpy and save the results to separated variables\n",
    "SpAtk_q_25 = np.quantile(df_pokemon_co[\"SpAtk\"], q=0.25)\n",
    "SpAtk_q_50 = np.quantile(df_pokemon_co[\"SpAtk\"], q=0.50)\n",
    "SpAtk_q_75 = np.quantile(df_pokemon_co[\"SpAtk\"], q=0.75)\n",
    "\n",
    "# Display a statement with the mean and the interquartile range\n",
    "\"The median SpAtk of a pokemon (N = {}) is {}. The middle 50% of pokemons fall between {} and {}.\".format(\n",
    "    len(df_pokemon_co), SpAtk_q_50, SpAtk_q_25, SpAtk_q_75)"
   ]
  },
  {
   "cell_type": "markdown",
   "id": "cac42943",
   "metadata": {},
   "source": [
    "Calculate the standard error (of the mean) for the variable `Attack` for pokemon of `Generation` 1, based on `df_pokemon_co`, and print it to the console. Describe the difference between a standard error (of the mean) and a standard deviation.\n"
   ]
  },
  {
   "cell_type": "code",
   "execution_count": 44,
   "id": "32646009",
   "metadata": {},
   "outputs": [
    {
     "data": {
      "text/plain": [
       "3.6247541336448013"
      ]
     },
     "execution_count": 44,
     "metadata": {},
     "output_type": "execute_result"
    }
   ],
   "source": [
    "# formulation of the standard error as a lambda function\n",
    "stderror = lambda x: np.sqrt(np.var(x)/x.shape[0])\n",
    "\n",
    "\n",
    "stderror(df_pokemon_co[df_pokemon_co[\"Generation\"]==1][\"Attack\"])"
   ]
  },
  {
   "cell_type": "markdown",
   "id": "c3f89b56",
   "metadata": {},
   "source": [
    "The standard error (of the mean) is a measure of how spread out values are around the sample mean compared to the population mean. While the standard deviation is a measure of how spread out variables in the sample differ from the sample mean.\n"
   ]
  },
  {
   "cell_type": "markdown",
   "id": "379eb82e",
   "metadata": {},
   "source": [
    "### Visualisation \n",
    "\n",
    "Use matplotlib to create a boxplot that shows the Total attribute for pokemons by their Type1 categorisation. You should use df_pokemon_co for this, and furthermore only consider pokemon whose Type1 is either Grass, Fire, Normal, Water, or Flying. The Total attribute should be shown on the x axis. Please use an appropriate title and axis labels."
   ]
  },
  {
   "cell_type": "code",
   "execution_count": 45,
   "id": "2b7a6bc6",
   "metadata": {},
   "outputs": [
    {
     "data": {
      "image/png": "[encoded data removed]",
      "text/plain": [
       "<Figure size 1008x360 with 1 Axes>"
      ]
     },
     "metadata": {
      "needs_background": "light"
     },
     "output_type": "display_data"
    }
   ],
   "source": [
    "plotlabels = ['Grass','Fire','Normal','Water','Flying']\n",
    "plotdata = [df_pokemon_co[df_pokemon_co['Type1']==label]['Total'] for label in plotlabels]\n",
    "plt.figure(figsize=(14, 5)) # Specify graphic size\n",
    "plt.boxplot(plotdata, labels=plotlabels, vert=False, widths=0.8, zorder=3) # Box plot\n",
    "plt.xlabel('Total') # Set Total as the label for the x axis\n",
    "plt.ylabel('Type1') # Set Type1 as the label for the y axis\n",
    "plt.title('Total attribute of Type1 Pokemons') # Set title\n",
    "plt.grid(zorder=0) # Add grid\n",
    "plt.show()"
   ]
  },
  {
   "cell_type": "code",
   "execution_count": 12,
   "id": "7b4e710d",
   "metadata": {},
   "outputs": [
    {
     "data": {
      "text/plain": [
       "count     24.000000\n",
       "mean     511.583333\n",
       "std       98.329047\n",
       "min      305.000000\n",
       "25%      416.000000\n",
       "50%      532.000000\n",
       "75%      585.000000\n",
       "max      680.000000\n",
       "Name: Total, dtype: float64"
      ]
     },
     "execution_count": 12,
     "metadata": {},
     "output_type": "execute_result"
    }
   ],
   "source": [
    "df_pokemon_co[(df_pokemon_co.Type1==\"Fire\")]['Total'].describe()"
   ]
  },
  {
   "cell_type": "code",
   "execution_count": 11,
   "id": "90192d9b",
   "metadata": {},
   "outputs": [
    {
     "data": {
      "text/plain": [
       "count     53.000000\n",
       "mean     449.056604\n",
       "std      109.268620\n",
       "min      210.000000\n",
       "25%      355.000000\n",
       "50%      473.000000\n",
       "75%      525.000000\n",
       "max      680.000000\n",
       "Name: Total, dtype: float64"
      ]
     },
     "execution_count": 11,
     "metadata": {},
     "output_type": "execute_result"
    }
   ],
   "source": [
    "df_pokemon_co[(df_pokemon_co.Type1==\"Water\")]['Total'].describe()"
   ]
  },
  {
   "cell_type": "markdown",
   "id": "3cfb312d",
   "metadata": {},
   "source": [
    "#### Pokemons of Type1 Water and Fire have equaly the highest number of Total attribute 680, with Type 1 Fire having the highest median of Total attribute. "
   ]
  },
  {
   "cell_type": "markdown",
   "id": "b0f56997",
   "metadata": {},
   "source": [
    "Use matplotlib to create a scatterplot of the Attack (on x Axis) and Defense (on y Axis) attributes for pokemons in df_pokemon_co. Distinguish between Legendary (in color Red) and NotLegendary (in color Blue) pokemon. Please use an appropriate title and axis labels, as well as a legend."
   ]
  },
  {
   "cell_type": "code",
   "execution_count": 13,
   "id": "74b9d851",
   "metadata": {},
   "outputs": [
    {
     "data": {
      "image/png": "[encoded data removed]",
      "text/plain": [
       "<Figure size 864x720 with 1 Axes>"
      ]
     },
     "metadata": {
      "needs_background": "light"
     },
     "output_type": "display_data"
    }
   ],
   "source": [
    "plotlabels = np.sort(df_pokemon_co['Legendary'].unique())\n",
    "plotdata = [df_pokemon_co[df_pokemon_co['Legendary']==label][['Defense','Attack']] for label in plotlabels]\n",
    "colors = plt.cm.cool(np.linspace(0, 1, len(plotlabels))) \n",
    "plt.figure(figsize=(12, 10)) \n",
    "for i, df_pokemon_co in enumerate(plotdata):\n",
    "    plt.scatter(df_pokemon_co['Attack'],df_pokemon_co['Defense'],color=colors[i],label=\"{} \".format(plotlabels[i]))\n",
    "plt.xlabel('Attack') \n",
    "plt.ylabel('Defense') \n",
    "plt.title('Pokemon Defense by Attack distinguish by Legendary') \n",
    "plt.legend() \n",
    "plt.grid(zorder=3) \n",
    "plt.show()"
   ]
  },
  {
   "cell_type": "code",
   "execution_count": null,
   "id": "a97f7006",
   "metadata": {},
   "outputs": [],
   "source": []
  }
 ],
 "metadata": {
  "kernelspec": {
   "display_name": "Python 3",
   "language": "python",
   "name": "python3"
  },
  "language_info": {
   "codemirror_mode": {
    "name": "ipython",
    "version": 3
   },
   "file_extension": ".py",
   "mimetype": "text/x-python",
   "name": "python",
   "nbconvert_exporter": "python",
   "pygments_lexer": "ipython3",
   "version": "3.8.8"
  }
 },
 "nbformat": 4,
 "nbformat_minor": 5
}
